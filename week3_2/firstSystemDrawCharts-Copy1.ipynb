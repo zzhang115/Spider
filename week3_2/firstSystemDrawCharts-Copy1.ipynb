{
 "cells": [
  {
   "cell_type": "code",
   "execution_count": null,
   "metadata": {
    "collapsed": true
   },
   "outputs": [],
   "source": [
    "import plotly\n",
    "plotly.tools.set_credentials_file(username='zzhang115', api_key='F3maZlp8z5KbNAYJZltX')\n",
    "import plotly.plotly as py"
   ]
  },
  {
   "cell_type": "code",
   "execution_count": 10,
   "metadata": {
    "collapsed": true
   },
   "outputs": [],
   "source": [
    "import plotly.figure_factory as ff\n",
    "import plotly.graph_objs as go\n",
    "import pandas as pd"
   ]
  },
  {
   "cell_type": "code",
   "execution_count": 6,
   "metadata": {},
   "outputs": [
    {
     "data": {
      "text/html": [
       "<iframe id=\"igraph\" scrolling=\"no\" style=\"border:none;\" seamless=\"seamless\" src=\"https://plot.ly/~zzhang115/4.embed\" height=\"710px\" width=\"100%\"></iframe>"
      ],
      "text/plain": [
       "<plotly.tools.PlotlyDisplay object>"
      ]
     },
     "execution_count": 6,
     "metadata": {},
     "output_type": "execute_result"
    }
   ],
   "source": [
    "df = pd.read_csv(\"https://raw.githubusercontent.com/plotly/datasets/master/school_earnings.csv\")\n",
    "\n",
    "table = ff.create_table(df)\n",
    "py.iplot(table)"
   ]
  },
  {
   "cell_type": "code",
   "execution_count": 12,
   "metadata": {},
   "outputs": [
    {
     "data": {
      "text/html": [
       "<iframe id=\"igraph\" scrolling=\"no\" style=\"border:none;\" seamless=\"seamless\" src=\"https://plot.ly/~zzhang115/8.embed\" height=\"525px\" width=\"100%\"></iframe>"
      ],
      "text/plain": [
       "<plotly.tools.PlotlyDisplay object>"
      ]
     },
     "execution_count": 12,
     "metadata": {},
     "output_type": "execute_result"
    }
   ],
   "source": [
    "xAxis = ['周一', '周二', '周三', '周四']\n",
    "y0=[11,2,3,4]\n",
    "y1=[8,5,6,7]\n",
    "y2=[12,6,7,2]\n",
    "y3=[29,24,68,23]\n",
    "trace0=go.Scatter(\n",
    "    x=xAxis,\n",
    "    y=y0,\n",
    "    name='OS X',\n",
    "    line=dict(\n",
    "        color=('rgb(205,12,24)'),\n",
    "        width=4\n",
    "    )\n",
    ")\n",
    "trace1=go.Scatter(\n",
    "    x=xAxis,\n",
    "    y=y1,\n",
    "    name='Ubuntu',\n",
    "    line=dict(\n",
    "        color=('rgb(22,96,167)'),\n",
    "        width=4\n",
    "    )\n",
    ")\n",
    "trace2=go.Scatter(\n",
    "    x=xAxis,\n",
    "    y=y2,\n",
    "    name='Windows',\n",
    "    line=dict(\n",
    "        color=('rgb(50,12,24)'),\n",
    "        width=4\n",
    "    )\n",
    ")\n",
    "trace3=go.Scatter(\n",
    "    x=xAxis,\n",
    "    y=y3,\n",
    "    name='Others',\n",
    "    line=dict(\n",
    "        color=('rgb(22,20,24)'),\n",
    "        width=4\n",
    "    )\n",
    ")\n",
    "data=[trace0, trace1, trace2, trace3]\n",
    "#Edit the layout\n",
    "layout=dict(title='Most used computer system',\n",
    "            xaxis=dict(title='Day'),\n",
    "            yaxis=dict(title='Amount'),\n",
    "           )\n",
    "fig=dict(data=data, layout=layout)\n",
    "py.iplot(fig)"
   ]
  },
  {
   "cell_type": "code",
   "execution_count": null,
   "metadata": {
    "collapsed": true
   },
   "outputs": [],
   "source": []
  }
 ],
 "metadata": {
  "kernelspec": {
   "display_name": "Python 3",
   "language": "python",
   "name": "python3"
  },
  "language_info": {
   "codemirror_mode": {
    "name": "ipython",
    "version": 3
   },
   "file_extension": ".py",
   "mimetype": "text/x-python",
   "name": "python",
   "nbconvert_exporter": "python",
   "pygments_lexer": "ipython3",
   "version": "3.5.2"
  }
 },
 "nbformat": 4,
 "nbformat_minor": 2
}
