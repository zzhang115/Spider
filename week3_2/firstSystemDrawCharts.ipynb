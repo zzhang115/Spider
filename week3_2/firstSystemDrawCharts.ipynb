{
 "cells": [
  {
   "cell_type": "code",
   "execution_count": 4,
   "metadata": {
    "collapsed": true
   },
   "outputs": [],
   "source": [
    "import plotly\n",
    "plotly.tools.set_credentials_file(username='zzhang115', api_key='F3maZlp8z5KbNAYJZltX')\n",
    "import plotly.plotly as py"
   ]
  },
  {
   "cell_type": "code",
   "execution_count": 10,
   "metadata": {
    "collapsed": true
   },
   "outputs": [],
   "source": [
    "import plotly.figure_factory as ff\n",
    "import plotly.graph_objs as go\n",
    "import pandas as pd"
   ]
  },
  {
   "cell_type": "code",
   "execution_count": 6,
   "metadata": {},
   "outputs": [
    {
     "data": {
      "text/html": [
       "<iframe id=\"igraph\" scrolling=\"no\" style=\"border:none;\" seamless=\"seamless\" src=\"https://plot.ly/~zzhang115/4.embed\" height=\"710px\" width=\"100%\"></iframe>"
      ],
      "text/plain": [
       "<plotly.tools.PlotlyDisplay object>"
      ]
     },
     "execution_count": 6,
     "metadata": {},
     "output_type": "execute_result"
    }
   ],
   "source": [
    "df = pd.read_csv(\"https://raw.githubusercontent.com/plotly/datasets/master/school_earnings.csv\")\n",
    "\n",
    "table = ff.create_table(df)\n",
    "py.iplot(table)"
   ]
  },
  {
   "cell_type": "code",
   "execution_count": 12,
   "metadata": {},
   "outputs": [
    {
     "data": {
      "text/html": [
       "<iframe id=\"igraph\" scrolling=\"no\" style=\"border:none;\" seamless=\"seamless\" src=\"https://plot.ly/~zzhang115/8.embed\" height=\"525px\" width=\"100%\"></iframe>"
      ],
      "text/plain": [
       "<plotly.tools.PlotlyDisplay object>"
      ]
     },
     "execution_count": 12,
     "metadata": {},
     "output_type": "execute_result"
    }
   ],
   "source": [
    "xAxis = ['周一', '周二', '周三', '周四']\n",
    "y0=[11,2,3,4]\n",
    "y1=[8,5,6,7]\n",
    "y2=[12,6,7,2]\n",
    "y3=[29,24,68,23]\n",
    "trace0=go.Scatter(\n",
    "    x=xAxis,\n",
    "    y=y0,\n",
    "    name='OS X',\n",
    "    line=dict(\n",
    "        color=('rgb(205,12,24)'),\n",
    "        width=4\n",
    "    )\n",
    ")\n",
    "trace1=go.Scatter(\n",
    "    x=xAxis,\n",
    "    y=y1,\n",
    "    name='Ubuntu',\n",
    "    line=dict(\n",
    "        color=('rgb(22,96,167)'),\n",
    "        width=4\n",
    "    )\n",
    ")\n",
    "trace2=go.Scatter(\n",
    "    x=xAxis,\n",
    "    y=y2,\n",
    "    name='Windows',\n",
    "    line=dict(\n",
    "        color=('rgb(50,12,24)'),\n",
    "        width=4\n",
    "    )\n",
    ")\n",
    "trace3=go.Scatter(\n",
    "    x=xAxis,\n",
    "    y=y3,\n",
    "    name='Others',\n",
    "    line=dict(\n",
    "        color=('rgb(22,20,24)'),\n",
    "        width=4\n",
    "    )\n",
    ")\n",
    "data=[trace0, trace1, trace2, trace3]\n",
    "#Edit the layout\n",
    "layout=dict(title='Most used computer system',\n",
    "            xaxis=dict(title='Day'),\n",
    "            yaxis=dict(title='Amount'),\n",
    "           )\n",
    "fig=dict(data=data, layout=layout)\n",
    "py.iplot(fig)"
   ]
  },
  {
   "cell_type": "code",
   "execution_count": 13,
   "metadata": {
    "collapsed": true
   },
   "outputs": [],
   "source": [
    "import pymongo\n",
    "\n",
    "client = pymongo.MongoClient('localhost', 27017)\n",
    "crime = client['crime']\n",
    "crime_info = crime['crime_info']"
   ]
  },
  {
   "cell_type": "code",
   "execution_count": 14,
   "metadata": {},
   "outputs": [
    {
     "name": "stdout",
     "output_type": "stream",
     "text": [
      "{'rape legacy': 2.0, 'murder': 0.0, 'arson': 7.0, 'state': 'california', 'property crime': 306.0, 'rape revised': '', 'robbery': 10.0, 'city': 'Agoura Hills', 'larceny theft': 185.0, 'population': 20762.0, 'motor vehicle theft': 12.0, 'burglary': 109.0, '_id': ObjectId('594e03e1f937324835b10e2e'), 'aggravated assault': 7.0, 'violent crime': 19.0}\n",
      "{'rape legacy': 10.0, 'murder': 0.0, 'arson': 17.0, 'state': 'california', 'property crime': 1902.0, 'rape revised': '', 'robbery': 85.0, 'city': 'Alameda', 'larceny theft': 1285.0, 'population': 76206.0, 'motor vehicle theft': 330.0, 'burglary': 287.0, '_id': ObjectId('594e03e1f937324835b10e2f'), 'aggravated assault': 63.0, 'violent crime': 158.0}\n",
      "{'rape legacy': 1.0, 'murder': 0.0, 'arson': 7.0, 'state': 'california', 'property crime': 557.0, 'rape revised': '', 'robbery': 24.0, 'city': 'Albany', 'larceny theft': 388.0, 'population': 19104.0, 'motor vehicle theft': 75.0, 'burglary': 94.0, '_id': ObjectId('594e03e1f937324835b10e30'), 'aggravated assault': 4.0, 'violent crime': 29.0}\n",
      "{'rape legacy': 9.0, 'murder': 1.0, 'arson': 7.0, 'state': 'california', 'property crime': 1774.0, 'rape revised': '', 'robbery': 81.0, 'city': 'Alhambra', 'larceny theft': 1196.0, 'population': 84710.0, 'motor vehicle theft': 234.0, 'burglary': 344.0, '_id': ObjectId('594e03e1f937324835b10e31'), 'aggravated assault': 72.0, 'violent crime': 163.0}\n",
      "{'rape legacy': 2.0, 'murder': 0.0, 'arson': 3.0, 'state': 'california', 'property crime': 315.0, 'rape revised': '', 'robbery': 4.0, 'city': 'Aliso Viejo', 'larceny theft': 224.0, 'population': 50005.0, 'motor vehicle theft': 20.0, 'burglary': 71.0, '_id': ObjectId('594e03e1f937324835b10e32'), 'aggravated assault': 19.0, 'violent crime': 25.0}\n",
      "{'rape legacy': 4.0, 'murder': 1.0, 'arson': 0.0, 'state': 'california', 'property crime': 71.0, 'rape revised': '', 'robbery': 2.0, 'city': 'Alturas', 'larceny theft': 46.0, 'population': 2681.0, 'motor vehicle theft': 2.0, 'burglary': 23.0, '_id': ObjectId('594e03e1f937324835b10e33'), 'aggravated assault': 21.0, 'violent crime': 28.0}\n",
      "{'rape legacy': 4.0, 'murder': 0.0, 'arson': 2.0, 'state': 'california', 'property crime': 510.0, 'rape revised': '', 'robbery': 31.0, 'city': 'American Canyon', 'larceny theft': 387.0, 'population': 20068.0, 'motor vehicle theft': 32.0, 'burglary': 91.0, '_id': ObjectId('594e03e1f937324835b10e34'), 'aggravated assault': 19.0, 'violent crime': 54.0}\n",
      "{'rape legacy': 82.0, 'murder': 11.0, 'arson': 35.0, 'state': 'california', 'property crime': 9611.0, 'rape revised': '', 'robbery': 437.0, 'city': 'Anaheim', 'larceny theft': 6518.0, 'population': 345320.0, 'motor vehicle theft': 1681.0, 'burglary': 1412.0, '_id': ObjectId('594e03e1f937324835b10e35'), 'aggravated assault': 600.0, 'violent crime': 1130.0}\n",
      "{'rape legacy': 8.0, 'murder': 0.0, 'arson': 5.0, 'state': 'california', 'property crime': 721.0, 'rape revised': '', 'robbery': 9.0, 'city': 'Anderson', 'larceny theft': 454.0, 'population': 10098.0, 'motor vehicle theft': 120.0, 'burglary': 147.0, '_id': ObjectId('594e03e1f937324835b10e36'), 'aggravated assault': 46.0, 'violent crime': 63.0}\n",
      "{'rape legacy': 25.0, 'murder': 12.0, 'arson': 57.0, 'state': 'california', 'property crime': 4440.0, 'rape revised': '', 'robbery': 352.0, 'city': 'Antioch', 'larceny theft': 1872.0, 'population': 106447.0, 'motor vehicle theft': 1217.0, 'burglary': 1351.0, '_id': ObjectId('594e03e1f937324835b10e37'), 'aggravated assault': 557.0, 'violent crime': 946.0}\n",
      "{'rape legacy': 12.0, 'murder': 3.0, 'arson': 22.0, 'state': 'california', 'property crime': 1594.0, 'rape revised': '', 'robbery': 58.0, 'city': 'Apple Valley', 'larceny theft': 775.0, 'population': 71159.0, 'motor vehicle theft': 223.0, 'burglary': 596.0, '_id': ObjectId('594e03e1f937324835b10e38'), 'aggravated assault': 112.0, 'violent crime': 185.0}\n",
      "{'rape legacy': 1.0, 'murder': 0.0, 'arson': 3.0, 'state': 'california', 'property crime': 1518.0, 'rape revised': '', 'robbery': 37.0, 'city': 'Arcadia', 'larceny theft': 1080.0, 'population': 57855.0, 'motor vehicle theft': 62.0, 'burglary': 376.0, '_id': ObjectId('594e03e1f937324835b10e39'), 'aggravated assault': 39.0, 'violent crime': 77.0}\n",
      "{'rape legacy': 7.0, 'murder': 3.0, 'arson': 14.0, 'state': 'california', 'property crime': 841.0, 'rape revised': '', 'robbery': 15.0, 'city': 'Arcata', 'larceny theft': 634.0, 'population': 17805.0, 'motor vehicle theft': 60.0, 'burglary': 147.0, '_id': ObjectId('594e03e1f937324835b10e3a'), 'aggravated assault': 42.0, 'violent crime': 67.0}\n",
      "{'rape legacy': 5.0, 'murder': 0.0, 'arson': 0.0, 'state': 'california', 'property crime': 455.0, 'rape revised': '', 'robbery': 4.0, 'city': 'Arroyo Grande', 'larceny theft': 288.0, 'population': 17634.0, 'motor vehicle theft': 30.0, 'burglary': 137.0, '_id': ObjectId('594e03e1f937324835b10e3b'), 'aggravated assault': 22.0, 'violent crime': 31.0}\n",
      "{'rape legacy': 0.0, 'murder': 2.0, 'arson': 1.0, 'state': 'california', 'property crime': 323.0, 'rape revised': '', 'robbery': 28.0, 'city': 'Artesia', 'larceny theft': 177.0, 'population': 16734.0, 'motor vehicle theft': 55.0, 'burglary': 91.0, '_id': ObjectId('594e03e1f937324835b10e3c'), 'aggravated assault': 33.0, 'violent crime': 63.0}\n",
      "{'rape legacy': 1.0, 'murder': 2.0, 'arson': 15.0, 'state': 'california', 'property crime': 744.0, 'rape revised': '', 'robbery': 16.0, 'city': 'Arvin', 'larceny theft': 308.0, 'population': 20390.0, 'motor vehicle theft': 113.0, 'burglary': 323.0, '_id': ObjectId('594e03e1f937324835b10e3d'), 'aggravated assault': 134.0, 'violent crime': 153.0}\n",
      "{'rape legacy': 12.0, 'murder': 1.0, 'arson': 7.0, 'state': 'california', 'property crime': 544.0, 'rape revised': '', 'robbery': 24.0, 'city': 'Atascadero', 'larceny theft': 400.0, 'population': 28938.0, 'motor vehicle theft': 25.0, 'burglary': 119.0, '_id': ObjectId('594e03e1f937324835b10e3e'), 'aggravated assault': 60.0, 'violent crime': 97.0}\n",
      "{'rape legacy': 1.0, 'murder': 0.0, 'arson': 1.0, 'state': 'california', 'property crime': 115.0, 'rape revised': '', 'robbery': 1.0, 'city': 'Atherton', 'larceny theft': 78.0, 'population': 7278.0, 'motor vehicle theft': 3.0, 'burglary': 34.0, '_id': ObjectId('594e03e1f937324835b10e3f'), 'aggravated assault': 8.0, 'violent crime': 10.0}\n",
      "{'rape legacy': 7.0, 'murder': 1.0, 'arson': 5.0, 'state': 'california', 'property crime': 1323.0, 'rape revised': '', 'robbery': 22.0, 'city': 'Atwater', 'larceny theft': 804.0, 'population': 28906.0, 'motor vehicle theft': 158.0, 'burglary': 361.0, '_id': ObjectId('594e03e1f937324835b10e40'), 'aggravated assault': 152.0, 'violent crime': 182.0}\n",
      "{'rape legacy': 2.0, 'murder': 0.0, 'arson': 7.0, 'state': 'california', 'property crime': 302.0, 'rape revised': '', 'robbery': 13.0, 'city': 'Auburn', 'larceny theft': 190.0, 'population': 13779.0, 'motor vehicle theft': 26.0, 'burglary': 86.0, '_id': ObjectId('594e03e1f937324835b10e41'), 'aggravated assault': 34.0, 'violent crime': 49.0}\n",
      "{'rape legacy': 0.0, 'murder': 0.0, 'arson': 1.0, 'state': 'california', 'property crime': 88.0, 'rape revised': '', 'robbery': 2.0, 'city': 'Avalon', 'larceny theft': 57.0, 'population': 3777.0, 'motor vehicle theft': 18.0, 'burglary': 13.0, '_id': ObjectId('594e03e1f937324835b10e42'), 'aggravated assault': 2.0, 'violent crime': 4.0}\n",
      "{'rape legacy': 4.0, 'murder': 0.0, 'arson': 2.0, 'state': 'california', 'property crime': 147.0, 'rape revised': '', 'robbery': 6.0, 'city': 'Avenal', 'larceny theft': 67.0, 'population': 14712.0, 'motor vehicle theft': 17.0, 'burglary': 63.0, '_id': ObjectId('594e03e1f937324835b10e43'), 'aggravated assault': 52.0, 'violent crime': 62.0}\n",
      "{'rape legacy': 4.0, 'murder': 2.0, 'arson': 6.0, 'state': 'california', 'property crime': 1098.0, 'rape revised': '', 'robbery': 36.0, 'city': 'Azusa', 'larceny theft': 671.0, 'population': 47754.0, 'motor vehicle theft': 171.0, 'burglary': 256.0, '_id': ObjectId('594e03e1f937324835b10e44'), 'aggravated assault': 204.0, 'violent crime': 246.0}\n",
      "{'rape legacy': 43.0, 'murder': 24.0, 'arson': 193.0, 'state': 'california', 'property crime': 16814.0, 'rape revised': '', 'robbery': 708.0, 'city': 'Bakersfield', 'larceny theft': 9272.0, 'population': 361859.0, 'motor vehicle theft': 2937.0, 'burglary': 4605.0, '_id': ObjectId('594e03e1f937324835b10e45'), 'aggravated assault': 1082.0, 'violent crime': 1857.0}\n",
      "{'rape legacy': 6.0, 'murder': 5.0, 'arson': 8.0, 'state': 'california', 'property crime': 1370.0, 'rape revised': '', 'robbery': 74.0, 'city': 'Baldwin Park', 'larceny theft': 727.0, 'population': 76745.0, 'motor vehicle theft': 363.0, 'burglary': 280.0, '_id': ObjectId('594e03e1f937324835b10e46'), 'aggravated assault': 135.0, 'violent crime': 220.0}\n",
      "{'rape legacy': 9.0, 'murder': 2.0, 'arson': 0.0, 'state': 'california', 'property crime': 808.0, 'rape revised': '', 'robbery': 26.0, 'city': 'Banning', 'larceny theft': 323.0, 'population': 30503.0, 'motor vehicle theft': 130.0, 'burglary': 355.0, '_id': ObjectId('594e03e1f937324835b10e47'), 'aggravated assault': 92.0, 'violent crime': 129.0}\n",
      "{'rape legacy': 13.0, 'murder': 3.0, 'arson': 11.0, 'state': 'california', 'property crime': 785.0, 'rape revised': '', 'robbery': 45.0, 'city': 'Barstow', 'larceny theft': 354.0, 'population': 23144.0, 'motor vehicle theft': 102.0, 'burglary': 329.0, '_id': ObjectId('594e03e1f937324835b10e48'), 'aggravated assault': 168.0, 'violent crime': 229.0}\n",
      "{'rape legacy': 1.0, 'murder': 0.0, 'arson': 0.0, 'state': 'california', 'property crime': 111.0, 'rape revised': '', 'robbery': 0.0, 'city': 'Bear Valley', 'larceny theft': 101.0, 'population': 5328.0, 'motor vehicle theft': 0.0, 'burglary': 10.0, '_id': ObjectId('594e03e1f937324835b10e49'), 'aggravated assault': 11.0, 'violent crime': 12.0}\n",
      "{'rape legacy': 8.0, 'murder': 1.0, 'arson': 6.0, 'state': 'california', 'property crime': 1298.0, 'rape revised': '', 'robbery': 20.0, 'city': 'Beaumont', 'larceny theft': 1015.0, 'population': 40208.0, 'motor vehicle theft': 103.0, 'burglary': 180.0, '_id': ObjectId('594e03e1f937324835b10e4a'), 'aggravated assault': 56.0, 'violent crime': 85.0}\n",
      "{'rape legacy': 10.0, 'murder': 0.0, 'arson': 0.0, 'state': 'california', 'property crime': 535.0, 'rape revised': '', 'robbery': 81.0, 'city': 'Bell', 'larceny theft': 334.0, 'population': 35928.0, 'motor vehicle theft': 77.0, 'burglary': 124.0, '_id': ObjectId('594e03e1f937324835b10e4b'), 'aggravated assault': 117.0, 'violent crime': 208.0}\n",
      "{'rape legacy': 9.0, 'murder': 1.0, 'arson': 13.0, 'state': 'california', 'property crime': 1882.0, 'rape revised': '', 'robbery': 105.0, 'city': 'Bellflower', 'larceny theft': 968.0, 'population': 77594.0, 'motor vehicle theft': 487.0, 'burglary': 427.0, '_id': ObjectId('594e03e1f937324835b10e4c'), 'aggravated assault': 164.0, 'violent crime': 279.0}\n",
      "{'rape legacy': 3.0, 'murder': 1.0, 'arson': 2.0, 'state': 'california', 'property crime': 763.0, 'rape revised': '', 'robbery': 56.0, 'city': 'Bell Gardens', 'larceny theft': 351.0, 'population': 42980.0, 'motor vehicle theft': 271.0, 'burglary': 141.0, '_id': ObjectId('594e03e1f937324835b10e4d'), 'aggravated assault': 60.0, 'violent crime': 120.0}\n",
      "{'rape legacy': 5.0, 'murder': 1.0, 'arson': 1.0, 'state': 'california', 'property crime': 437.0, 'rape revised': '', 'robbery': 4.0, 'city': 'Belmont', 'larceny theft': 269.0, 'population': 26697.0, 'motor vehicle theft': 39.0, 'burglary': 129.0, '_id': ObjectId('594e03e1f937324835b10e4e'), 'aggravated assault': 17.0, 'violent crime': 27.0}\n",
      "{'rape legacy': 0.0, 'murder': 0.0, 'arson': 0.0, 'state': 'california', 'property crime': 26.0, 'rape revised': '', 'robbery': 0.0, 'city': 'Belvedere', 'larceny theft': 20.0, 'population': 2120.0, 'motor vehicle theft': 1.0, 'burglary': 5.0, '_id': ObjectId('594e03e1f937324835b10e4f'), 'aggravated assault': 0.0, 'violent crime': 0.0}\n",
      "{'rape legacy': 4.0, 'murder': 0.0, 'arson': 8.0, 'state': 'california', 'property crime': 383.0, 'rape revised': '', 'robbery': 8.0, 'city': 'Benicia', 'larceny theft': 199.0, 'population': 27558.0, 'motor vehicle theft': 50.0, 'burglary': 134.0, '_id': ObjectId('594e03e1f937324835b10e50'), 'aggravated assault': 18.0, 'violent crime': 30.0}\n",
      "{'rape legacy': 26.0, 'murder': 4.0, 'arson': 16.0, 'state': 'california', 'property crime': 5377.0, 'rape revised': '', 'robbery': 410.0, 'city': 'Berkeley', 'larceny theft': 3658.0, 'population': 116217.0, 'motor vehicle theft': 664.0, 'burglary': 1055.0, '_id': ObjectId('594e03e1f937324835b10e51'), 'aggravated assault': 122.0, 'violent crime': 562.0}\n",
      "{'rape legacy': 5.0, 'murder': 0.0, 'arson': 4.0, 'state': 'california', 'property crime': 1179.0, 'rape revised': '', 'robbery': 29.0, 'city': 'Beverly Hills', 'larceny theft': 899.0, 'population': 34780.0, 'motor vehicle theft': 41.0, 'burglary': 239.0, '_id': ObjectId('594e03e1f937324835b10e52'), 'aggravated assault': 43.0, 'violent crime': 77.0}\n",
      "{'rape legacy': 5.0, 'murder': 0.0, 'arson': 1.0, 'state': 'california', 'property crime': 215.0, 'rape revised': '', 'robbery': 5.0, 'city': 'Big Bear Lake', 'larceny theft': 126.0, 'population': 5144.0, 'motor vehicle theft': 12.0, 'burglary': 77.0, '_id': ObjectId('594e03e1f937324835b10e53'), 'aggravated assault': 46.0, 'violent crime': 56.0}\n",
      "{'rape legacy': 0.0, 'murder': 0.0, 'arson': 0.0, 'state': 'california', 'property crime': 34.0, 'rape revised': '', 'robbery': 0.0, 'city': 'Biggs', 'larceny theft': 18.0, 'population': 1711.0, 'motor vehicle theft': 5.0, 'burglary': 11.0, '_id': ObjectId('594e03e1f937324835b10e54'), 'aggravated assault': 16.0, 'violent crime': 16.0}\n",
      "{'rape legacy': 0.0, 'murder': 0.0, 'arson': 0.0, 'state': 'california', 'property crime': 108.0, 'rape revised': '', 'robbery': 4.0, 'city': 'Bishop', 'larceny theft': 80.0, 'population': 3861.0, 'motor vehicle theft': 4.0, 'burglary': 24.0, '_id': ObjectId('594e03e1f937324835b10e55'), 'aggravated assault': 24.0, 'violent crime': 28.0}\n",
      "{'rape legacy': 4.0, 'murder': 1.0, 'arson': 25.0, 'state': 'california', 'property crime': 693.0, 'rape revised': '', 'robbery': 20.0, 'city': 'Blythe', 'larceny theft': 435.0, 'population': 20629.0, 'motor vehicle theft': 35.0, 'burglary': 223.0, '_id': ObjectId('594e03e1f937324835b10e56'), 'aggravated assault': 40.0, 'violent crime': 65.0}\n",
      "{'rape legacy': 0.0, 'murder': 0.0, 'arson': 0.0, 'state': 'california', 'property crime': 16.0, 'rape revised': '', 'robbery': 0.0, 'city': 'Bradbury', 'larceny theft': 9.0, 'population': 1080.0, 'motor vehicle theft': 2.0, 'burglary': 5.0, '_id': ObjectId('594e03e1f937324835b10e57'), 'aggravated assault': 1.0, 'violent crime': 1.0}\n",
      "{'rape legacy': 5.0, 'murder': 0.0, 'arson': 36.0, 'state': 'california', 'property crime': 1211.0, 'rape revised': '', 'robbery': 7.0, 'city': 'Brawley', 'larceny theft': 854.0, 'population': 25753.0, 'motor vehicle theft': 56.0, 'burglary': 301.0, '_id': ObjectId('594e03e1f937324835b10e58'), 'aggravated assault': 49.0, 'violent crime': 61.0}\n",
      "{'rape legacy': 4.0, 'murder': 2.0, 'arson': 3.0, 'state': 'california', 'property crime': 1210.0, 'rape revised': '', 'robbery': 22.0, 'city': 'Brea', 'larceny theft': 939.0, 'population': 40600.0, 'motor vehicle theft': 66.0, 'burglary': 205.0, '_id': ObjectId('594e03e1f937324835b10e59'), 'aggravated assault': 36.0, 'violent crime': 64.0}\n",
      "{'rape legacy': 11.0, 'murder': 0.0, 'arson': 5.0, 'state': 'california', 'property crime': 1214.0, 'rape revised': '', 'robbery': 20.0, 'city': 'Brentwood', 'larceny theft': 848.0, 'population': 54301.0, 'motor vehicle theft': 113.0, 'burglary': 253.0, '_id': ObjectId('594e03e1f937324835b10e5a'), 'aggravated assault': 58.0, 'violent crime': 89.0}\n",
      "{'rape legacy': 0.0, 'murder': 0.0, 'arson': 1.0, 'state': 'california', 'property crime': 98.0, 'rape revised': '', 'robbery': 1.0, 'city': 'Brisbane', 'larceny theft': 73.0, 'population': 4429.0, 'motor vehicle theft': 6.0, 'burglary': 19.0, '_id': ObjectId('594e03e1f937324835b10e5b'), 'aggravated assault': 4.0, 'violent crime': 5.0}\n",
      "{'rape legacy': 3.0, 'murder': 0.0, 'arson': 0.0, 'state': 'california', 'property crime': 55.0, 'rape revised': '', 'robbery': 2.0, 'city': 'Broadmoor', 'larceny theft': 29.0, 'population': 4301.0, 'motor vehicle theft': 6.0, 'burglary': 20.0, '_id': ObjectId('594e03e1f937324835b10e5c'), 'aggravated assault': 9.0, 'violent crime': 14.0}\n",
      "{'rape legacy': 3.0, 'murder': 0.0, 'arson': 0.0, 'state': 'california', 'property crime': 62.0, 'rape revised': '', 'robbery': 1.0, 'city': 'Buellton', 'larceny theft': 46.0, 'population': 4927.0, 'motor vehicle theft': 1.0, 'burglary': 15.0, '_id': ObjectId('594e03e1f937324835b10e5d'), 'aggravated assault': 3.0, 'violent crime': 7.0}\n",
      "{'rape legacy': 13.0, 'murder': 2.0, 'arson': 2.0, 'state': 'california', 'property crime': 2165.0, 'rape revised': '', 'robbery': 80.0, 'city': 'Buena Park', 'larceny theft': 1435.0, 'population': 82632.0, 'motor vehicle theft': 369.0, 'burglary': 361.0, '_id': ObjectId('594e03e1f937324835b10e5e'), 'aggravated assault': 126.0, 'violent crime': 221.0}\n",
      "{'rape legacy': 13.0, 'murder': 0.0, 'arson': 6.0, 'state': 'california', 'property crime': 2430.0, 'rape revised': '', 'robbery': 51.0, 'city': 'Burbank', 'larceny theft': 1926.0, 'population': 104727.0, 'motor vehicle theft': 219.0, 'burglary': 285.0, '_id': ObjectId('594e03e1f937324835b10e5f'), 'aggravated assault': 107.0, 'violent crime': 171.0}\n",
      "{'rape legacy': 2.0, 'murder': 0.0, 'arson': 5.0, 'state': 'california', 'property crime': 665.0, 'rape revised': '', 'robbery': 12.0, 'city': 'Burlingame', 'larceny theft': 472.0, 'population': 29936.0, 'motor vehicle theft': 45.0, 'burglary': 148.0, '_id': ObjectId('594e03e1f937324835b10e60'), 'aggravated assault': 23.0, 'violent crime': 37.0}\n",
      "{'rape legacy': 3.0, 'murder': 0.0, 'arson': 7.0, 'state': 'california', 'property crime': 313.0, 'rape revised': '', 'robbery': 6.0, 'city': 'Calabasas', 'larceny theft': 222.0, 'population': 24114.0, 'motor vehicle theft': 7.0, 'burglary': 84.0, '_id': ObjectId('594e03e1f937324835b10e61'), 'aggravated assault': 11.0, 'violent crime': 20.0}\n",
      "{'rape legacy': 0.0, 'murder': 0.0, 'arson': 3.0, 'state': 'california', 'property crime': 1474.0, 'rape revised': '', 'robbery': 27.0, 'city': 'Calexico', 'larceny theft': 837.0, 'population': 39527.0, 'motor vehicle theft': 275.0, 'burglary': 362.0, '_id': ObjectId('594e03e1f937324835b10e62'), 'aggravated assault': 65.0, 'violent crime': 92.0}\n",
      "{'rape legacy': 4.0, 'murder': 0.0, 'arson': 0.0, 'state': 'california', 'property crime': 683.0, 'rape revised': '', 'robbery': 9.0, 'city': 'California City', 'larceny theft': 239.0, 'population': 13339.0, 'motor vehicle theft': 19.0, 'burglary': 425.0, '_id': ObjectId('594e03e1f937324835b10e63'), 'aggravated assault': 74.0, 'violent crime': 87.0}\n",
      "{'rape legacy': 0.0, 'murder': 0.0, 'arson': 0.0, 'state': 'california', 'property crime': 165.0, 'rape revised': '', 'robbery': 5.0, 'city': 'Calimesa', 'larceny theft': 106.0, 'population': 8118.0, 'motor vehicle theft': 15.0, 'burglary': 44.0, '_id': ObjectId('594e03e1f937324835b10e64'), 'aggravated assault': 9.0, 'violent crime': 14.0}\n",
      "{'rape legacy': 1.0, 'murder': 0.0, 'arson': 0.0, 'state': 'california', 'property crime': 75.0, 'rape revised': '', 'robbery': 1.0, 'city': 'Calistoga', 'larceny theft': 45.0, 'population': 5223.0, 'motor vehicle theft': 3.0, 'burglary': 27.0, '_id': ObjectId('594e03e1f937324835b10e65'), 'aggravated assault': 7.0, 'violent crime': 9.0}\n",
      "{'rape legacy': 6.0, 'murder': 0.0, 'arson': 9.0, 'state': 'california', 'property crime': 1130.0, 'rape revised': '', 'robbery': 25.0, 'city': 'Camarillo', 'larceny theft': 849.0, 'population': 66173.0, 'motor vehicle theft': 76.0, 'burglary': 205.0, '_id': ObjectId('594e03e1f937324835b10e66'), 'aggravated assault': 42.0, 'violent crime': 73.0}\n",
      "{'rape legacy': 12.0, 'murder': 2.0, 'arson': 11.0, 'state': 'california', 'property crime': 1563.0, 'rape revised': '', 'robbery': 24.0, 'city': 'Campbell', 'larceny theft': 1016.0, 'population': 40549.0, 'motor vehicle theft': 206.0, 'burglary': 341.0, '_id': ObjectId('594e03e1f937324835b10e67'), 'aggravated assault': 68.0, 'violent crime': 106.0}\n",
      "{'rape legacy': 0.0, 'murder': 0.0, 'arson': 0.0, 'state': 'california', 'property crime': 157.0, 'rape revised': '', 'robbery': 0.0, 'city': 'Canyon Lake', 'larceny theft': 109.0, 'population': 10944.0, 'motor vehicle theft': 14.0, 'burglary': 34.0, '_id': ObjectId('594e03e1f937324835b10e68'), 'aggravated assault': 3.0, 'violent crime': 3.0}\n",
      "{'rape legacy': 3.0, 'murder': 1.0, 'arson': 2.0, 'state': 'california', 'property crime': 600.0, 'rape revised': '', 'robbery': 4.0, 'city': 'Capitola', 'larceny theft': 532.0, 'population': 10038.0, 'motor vehicle theft': 27.0, 'burglary': 41.0, '_id': ObjectId('594e03e1f937324835b10e69'), 'aggravated assault': 30.0, 'violent crime': 38.0}\n",
      "{'rape legacy': 23.0, 'murder': 1.0, 'arson': 10.0, 'state': 'california', 'property crime': 2085.0, 'rape revised': '', 'robbery': 44.0, 'city': 'Carlsbad', 'larceny theft': 1436.0, 'population': 110505.0, 'motor vehicle theft': 124.0, 'burglary': 525.0, '_id': ObjectId('594e03e1f937324835b10e6a'), 'aggravated assault': 153.0, 'violent crime': 221.0}\n",
      "{'rape legacy': 2.0, 'murder': 0.0, 'arson': 0.0, 'state': 'california', 'property crime': 105.0, 'rape revised': '', 'robbery': 2.0, 'city': 'Carmel', 'larceny theft': 70.0, 'population': 3833.0, 'motor vehicle theft': 3.0, 'burglary': 32.0, '_id': ObjectId('594e03e1f937324835b10e6b'), 'aggravated assault': 5.0, 'violent crime': 9.0}\n",
      "{'rape legacy': 3.0, 'murder': 0.0, 'arson': 0.0, 'state': 'california', 'property crime': 261.0, 'rape revised': '', 'robbery': 4.0, 'city': 'Carpinteria', 'larceny theft': 191.0, 'population': 13287.0, 'motor vehicle theft': 20.0, 'burglary': 50.0, '_id': ObjectId('594e03e1f937324835b10e6c'), 'aggravated assault': 14.0, 'violent crime': 21.0}\n",
      "{'rape legacy': 15.0, 'murder': 3.0, 'arson': 9.0, 'state': 'california', 'property crime': 2251.0, 'rape revised': '', 'robbery': 148.0, 'city': 'Carson', 'larceny theft': 1248.0, 'population': 93415.0, 'motor vehicle theft': 489.0, 'burglary': 514.0, '_id': ObjectId('594e03e1f937324835b10e6d'), 'aggravated assault': 234.0, 'violent crime': 400.0}\n",
      "{'rape legacy': 9.0, 'murder': 4.0, 'arson': 1.0, 'state': 'california', 'property crime': 1118.0, 'rape revised': '', 'robbery': 44.0, 'city': 'Cathedral City', 'larceny theft': 417.0, 'population': 53064.0, 'motor vehicle theft': 302.0, 'burglary': 399.0, '_id': ObjectId('594e03e1f937324835b10e6e'), 'aggravated assault': 92.0, 'violent crime': 149.0}\n",
      "{'rape legacy': 5.0, 'murder': 0.0, 'arson': 1.0, 'state': 'california', 'property crime': 695.0, 'rape revised': '', 'robbery': 12.0, 'city': 'Central Marin', 'larceny theft': 358.0, 'population': 34105.0, 'motor vehicle theft': 61.0, 'burglary': 276.0, '_id': ObjectId('594e03e1f937324835b10e6f'), 'aggravated assault': 24.0, 'violent crime': 41.0}\n",
      "{'rape legacy': 9.0, 'murder': 1.0, 'arson': 14.0, 'state': 'california', 'property crime': 1720.0, 'rape revised': '', 'robbery': 41.0, 'city': 'Ceres', 'larceny theft': 1026.0, 'population': 45876.0, 'motor vehicle theft': 339.0, 'burglary': 355.0, '_id': ObjectId('594e03e1f937324835b10e70'), 'aggravated assault': 82.0, 'violent crime': 133.0}\n",
      "{'rape legacy': 4.0, 'murder': 0.0, 'arson': 6.0, 'state': 'california', 'property crime': 1802.0, 'rape revised': '', 'robbery': 42.0, 'city': 'Cerritos', 'larceny theft': 1210.0, 'population': 49816.0, 'motor vehicle theft': 218.0, 'burglary': 374.0, '_id': ObjectId('594e03e1f937324835b10e71'), 'aggravated assault': 36.0, 'violent crime': 82.0}\n",
      "{'rape legacy': 41.0, 'murder': 2.0, 'arson': 37.0, 'state': 'california', 'property crime': 2572.0, 'rape revised': '', 'robbery': 95.0, 'city': 'Chico', 'larceny theft': 1568.0, 'population': 88226.0, 'motor vehicle theft': 382.0, 'burglary': 622.0, '_id': ObjectId('594e03e1f937324835b10e72'), 'aggravated assault': 161.0, 'violent crime': 299.0}\n",
      "{'rape legacy': 7.0, 'murder': 4.0, 'arson': 4.0, 'state': 'california', 'property crime': 2044.0, 'rape revised': '', 'robbery': 47.0, 'city': 'Chino', 'larceny theft': 1249.0, 'population': 80704.0, 'motor vehicle theft': 277.0, 'burglary': 518.0, '_id': ObjectId('594e03e1f937324835b10e73'), 'aggravated assault': 200.0, 'violent crime': 258.0}\n",
      "{'rape legacy': 5.0, 'murder': 0.0, 'arson': 4.0, 'state': 'california', 'property crime': 1017.0, 'rape revised': '', 'robbery': 11.0, 'city': 'Chino Hills', 'larceny theft': 615.0, 'population': 76943.0, 'motor vehicle theft': 87.0, 'burglary': 315.0, '_id': ObjectId('594e03e1f937324835b10e74'), 'aggravated assault': 47.0, 'violent crime': 63.0}\n",
      "{'rape legacy': 3.0, 'murder': 0.0, 'arson': 7.0, 'state': 'california', 'property crime': 452.0, 'rape revised': '', 'robbery': 7.0, 'city': 'Chowchilla', 'larceny theft': 213.0, 'population': 17696.0, 'motor vehicle theft': 43.0, 'burglary': 196.0, '_id': ObjectId('594e03e1f937324835b10e75'), 'aggravated assault': 71.0, 'violent crime': 81.0}\n",
      "{'rape legacy': 29.0, 'murder': 2.0, 'arson': 35.0, 'state': 'california', 'property crime': 5284.0, 'rape revised': '', 'robbery': 248.0, 'city': 'Chula Vista', 'larceny theft': 3532.0, 'population': 255073.0, 'motor vehicle theft': 781.0, 'burglary': 971.0, '_id': ObjectId('594e03e1f937324835b10e76'), 'aggravated assault': 316.0, 'violent crime': 595.0}\n",
      "{'rape legacy': 19.0, 'murder': 7.0, 'arson': 14.0, 'state': 'california', 'property crime': 2653.0, 'rape revised': '', 'robbery': 76.0, 'city': 'Citrus Heights', 'larceny theft': 1825.0, 'population': 85337.0, 'motor vehicle theft': 345.0, 'burglary': 483.0, '_id': ObjectId('594e03e1f937324835b10e77'), 'aggravated assault': 218.0, 'violent crime': 320.0}\n",
      "{'rape legacy': 1.0, 'murder': 0.0, 'arson': 0.0, 'state': 'california', 'property crime': 57.0, 'rape revised': '', 'robbery': 1.0, 'city': 'City of Angels', 'larceny theft': 26.0, 'population': 3729.0, 'motor vehicle theft': 3.0, 'burglary': 28.0, '_id': ObjectId('594e03e1f937324835b10e78'), 'aggravated assault': 7.0, 'violent crime': 9.0}\n",
      "{'rape legacy': 2.0, 'murder': 0.0, 'arson': 5.0, 'state': 'california', 'property crime': 894.0, 'rape revised': '', 'robbery': 23.0, 'city': 'Claremont', 'larceny theft': 546.0, 'population': 35623.0, 'motor vehicle theft': 68.0, 'burglary': 280.0, '_id': ObjectId('594e03e1f937324835b10e79'), 'aggravated assault': 12.0, 'violent crime': 37.0}\n",
      "{'rape legacy': 0.0, 'murder': 0.0, 'arson': 0.0, 'state': 'california', 'property crime': 101.0, 'rape revised': '', 'robbery': 2.0, 'city': 'Clayton', 'larceny theft': 54.0, 'population': 11439.0, 'motor vehicle theft': 10.0, 'burglary': 37.0, '_id': ObjectId('594e03e1f937324835b10e7a'), 'aggravated assault': 0.0, 'violent crime': 2.0}\n",
      "{'rape legacy': 13.0, 'murder': 2.0, 'arson': 13.0, 'state': 'california', 'property crime': 690.0, 'rape revised': '', 'robbery': 21.0, 'city': 'Clearlake', 'larceny theft': 292.0, 'population': 14951.0, 'motor vehicle theft': 89.0, 'burglary': 309.0, '_id': ObjectId('594e03e1f937324835b10e7b'), 'aggravated assault': 89.0, 'violent crime': 125.0}\n",
      "{'rape legacy': 0.0, 'murder': 0.0, 'arson': 1.0, 'state': 'california', 'property crime': 158.0, 'rape revised': '', 'robbery': 0.0, 'city': 'Cloverdale', 'larceny theft': 102.0, 'population': 8718.0, 'motor vehicle theft': 12.0, 'burglary': 44.0, '_id': ObjectId('594e03e1f937324835b10e7c'), 'aggravated assault': 5.0, 'violent crime': 5.0}\n",
      "{'rape legacy': 23.0, 'murder': 0.0, 'arson': 12.0, 'state': 'california', 'property crime': 3404.0, 'rape revised': '', 'robbery': 47.0, 'city': 'Clovis', 'larceny theft': 2220.0, 'population': 99483.0, 'motor vehicle theft': 305.0, 'burglary': 879.0, '_id': ObjectId('594e03e1f937324835b10e7d'), 'aggravated assault': 111.0, 'violent crime': 181.0}\n",
      "{'rape legacy': 2.0, 'murder': 2.0, 'arson': 5.0, 'state': 'california', 'property crime': 1372.0, 'rape revised': '', 'robbery': 56.0, 'city': 'Coachella', 'larceny theft': 634.0, 'population': 43330.0, 'motor vehicle theft': 380.0, 'burglary': 358.0, '_id': ObjectId('594e03e1f937324835b10e7e'), 'aggravated assault': 58.0, 'violent crime': 118.0}\n",
      "{'rape legacy': 7.0, 'murder': 0.0, 'arson': 12.0, 'state': 'california', 'property crime': 485.0, 'rape revised': '', 'robbery': 6.0, 'city': 'Coalinga', 'larceny theft': 282.0, 'population': 16398.0, 'motor vehicle theft': 34.0, 'burglary': 169.0, '_id': ObjectId('594e03e1f937324835b10e7f'), 'aggravated assault': 118.0, 'violent crime': 131.0}\n",
      "{'rape legacy': 1.0, 'murder': 0.0, 'arson': 1.0, 'state': 'california', 'property crime': 273.0, 'rape revised': '', 'robbery': 1.0, 'city': 'Colma', 'larceny theft': 238.0, 'population': 1481.0, 'motor vehicle theft': 22.0, 'burglary': 13.0, '_id': ObjectId('594e03e1f937324835b10e80'), 'aggravated assault': 3.0, 'violent crime': 5.0}\n",
      "{'rape legacy': 6.0, 'murder': 2.0, 'arson': 1.0, 'state': 'california', 'property crime': 1936.0, 'rape revised': '', 'robbery': 69.0, 'city': 'Colton', 'larceny theft': 1018.0, 'population': 53403.0, 'motor vehicle theft': 386.0, 'burglary': 532.0, '_id': ObjectId('594e03e1f937324835b10e81'), 'aggravated assault': 84.0, 'violent crime': 161.0}\n",
      "{'rape legacy': 4.0, 'murder': 0.0, 'arson': 0.0, 'state': 'california', 'property crime': 138.0, 'rape revised': '', 'robbery': 2.0, 'city': 'Colusa', 'larceny theft': 71.0, 'population': 5957.0, 'motor vehicle theft': 20.0, 'burglary': 47.0, '_id': ObjectId('594e03e1f937324835b10e82'), 'aggravated assault': 4.0, 'violent crime': 10.0}\n",
      "{'rape legacy': 2.0, 'murder': 1.0, 'arson': 6.0, 'state': 'california', 'property crime': 893.0, 'rape revised': '', 'robbery': 39.0, 'city': 'Commerce', 'larceny theft': 515.0, 'population': 12995.0, 'motor vehicle theft': 277.0, 'burglary': 101.0, '_id': ObjectId('594e03e1f937324835b10e83'), 'aggravated assault': 41.0, 'violent crime': 83.0}\n",
      "{'rape legacy': 26.0, 'murder': 36.0, 'arson': 39.0, 'state': 'california', 'property crime': 2538.0, 'rape revised': '', 'robbery': 360.0, 'city': 'Compton', 'larceny theft': 1160.0, 'population': 97907.0, 'motor vehicle theft': 799.0, 'burglary': 579.0, '_id': ObjectId('594e03e1f937324835b10e84'), 'aggravated assault': 820.0, 'violent crime': 1242.0}\n",
      "{'rape legacy': 12.0, 'murder': 1.0, 'arson': 9.0, 'state': 'california', 'property crime': 4357.0, 'rape revised': '', 'robbery': 159.0, 'city': 'Concord', 'larceny theft': 2764.0, 'population': 125464.0, 'motor vehicle theft': 768.0, 'burglary': 825.0, '_id': ObjectId('594e03e1f937324835b10e85'), 'aggravated assault': 235.0, 'violent crime': 407.0}\n",
      "{'rape legacy': 2.0, 'murder': 0.0, 'arson': 2.0, 'state': 'california', 'property crime': 364.0, 'rape revised': '', 'robbery': 10.0, 'city': 'Corcoran', 'larceny theft': 215.0, 'population': 23290.0, 'motor vehicle theft': 46.0, 'burglary': 103.0, '_id': ObjectId('594e03e1f937324835b10e86'), 'aggravated assault': 59.0, 'violent crime': 71.0}\n",
      "{'rape legacy': 0.0, 'murder': 0.0, 'arson': 2.0, 'state': 'california', 'property crime': 300.0, 'rape revised': '', 'robbery': 4.0, 'city': 'Corning', 'larceny theft': 173.0, 'population': 7631.0, 'motor vehicle theft': 38.0, 'burglary': 89.0, '_id': ObjectId('594e03e1f937324835b10e87'), 'aggravated assault': 43.0, 'violent crime': 47.0}\n",
      "{'rape legacy': 14.0, 'murder': 9.0, 'arson': 9.0, 'state': 'california', 'property crime': 3439.0, 'rape revised': '', 'robbery': 65.0, 'city': 'Corona', 'larceny theft': 2305.0, 'population': 160159.0, 'motor vehicle theft': 490.0, 'burglary': 644.0, '_id': ObjectId('594e03e1f937324835b10e88'), 'aggravated assault': 74.0, 'violent crime': 162.0}\n",
      "{'rape legacy': 2.0, 'murder': 0.0, 'arson': 4.0, 'state': 'california', 'property crime': 555.0, 'rape revised': '', 'robbery': 4.0, 'city': 'Coronado', 'larceny theft': 470.0, 'population': 23183.0, 'motor vehicle theft': 28.0, 'burglary': 57.0, '_id': ObjectId('594e03e1f937324835b10e89'), 'aggravated assault': 5.0, 'violent crime': 11.0}\n",
      "{'rape legacy': 46.0, 'murder': 1.0, 'arson': 13.0, 'state': 'california', 'property crime': 3556.0, 'rape revised': '', 'robbery': 94.0, 'city': 'Costa Mesa', 'larceny theft': 2748.0, 'population': 112538.0, 'motor vehicle theft': 296.0, 'burglary': 512.0, '_id': ObjectId('594e03e1f937324835b10e8a'), 'aggravated assault': 111.0, 'violent crime': 252.0}\n",
      "{'rape legacy': 0.0, 'murder': 0.0, 'arson': 0.0, 'state': 'california', 'property crime': 79.0, 'rape revised': '', 'robbery': 6.0, 'city': 'Cotati', 'larceny theft': 41.0, 'population': 7388.0, 'motor vehicle theft': 7.0, 'burglary': 31.0, '_id': ObjectId('594e03e1f937324835b10e8b'), 'aggravated assault': 29.0, 'violent crime': 35.0}\n",
      "{'rape legacy': 9.0, 'murder': 0.0, 'arson': 9.0, 'state': 'california', 'property crime': 1344.0, 'rape revised': '', 'robbery': 52.0, 'city': 'Covina', 'larceny theft': 818.0, 'population': 48524.0, 'motor vehicle theft': 157.0, 'burglary': 369.0, '_id': ObjectId('594e03e1f937324835b10e8c'), 'aggravated assault': 77.0, 'violent crime': 138.0}\n",
      "{'rape legacy': 7.0, 'murder': 0.0, 'arson': 0.0, 'state': 'california', 'property crime': 202.0, 'rape revised': '', 'robbery': 13.0, 'city': 'Crescent City', 'larceny theft': 125.0, 'population': 7333.0, 'motor vehicle theft': 16.0, 'burglary': 61.0, '_id': ObjectId('594e03e1f937324835b10e8d'), 'aggravated assault': 74.0, 'violent crime': 94.0}\n",
      "{'rape legacy': 4.0, 'murder': 0.0, 'arson': 1.0, 'state': 'california', 'property crime': 320.0, 'rape revised': '', 'robbery': 38.0, 'city': 'Cudahy', 'larceny theft': 174.0, 'population': 24091.0, 'motor vehicle theft': 82.0, 'burglary': 64.0, '_id': ObjectId('594e03e1f937324835b10e8e'), 'aggravated assault': 69.0, 'violent crime': 111.0}\n",
      "{'rape legacy': 7.0, 'murder': 0.0, 'arson': 1.0, 'state': 'california', 'property crime': 1616.0, 'rape revised': '', 'robbery': 88.0, 'city': 'Culver City', 'larceny theft': 1327.0, 'population': 39452.0, 'motor vehicle theft': 115.0, 'burglary': 174.0, '_id': ObjectId('594e03e1f937324835b10e8f'), 'aggravated assault': 66.0, 'violent crime': 161.0}\n",
      "{'rape legacy': 3.0, 'murder': 0.0, 'arson': 15.0, 'state': 'california', 'property crime': 812.0, 'rape revised': '', 'robbery': 23.0, 'city': 'Cupertino', 'larceny theft': 584.0, 'population': 60440.0, 'motor vehicle theft': 49.0, 'burglary': 179.0, '_id': ObjectId('594e03e1f937324835b10e90'), 'aggravated assault': 15.0, 'violent crime': 41.0}\n",
      "{'rape legacy': 4.0, 'murder': 0.0, 'arson': 6.0, 'state': 'california', 'property crime': 934.0, 'rape revised': '', 'robbery': 17.0, 'city': 'Cypress', 'larceny theft': 689.0, 'population': 49067.0, 'motor vehicle theft': 97.0, 'burglary': 148.0, '_id': ObjectId('594e03e1f937324835b10e91'), 'aggravated assault': 29.0, 'violent crime': 50.0}\n"
     ]
    }
   ],
   "source": [
    "for crime in crime_info.find().limit(100):\n",
    "    print(crime)"
   ]
  },
  {
   "cell_type": "code",
   "execution_count": 16,
   "metadata": {},
   "outputs": [
    {
     "name": "stdout",
     "output_type": "stream",
     "text": [
      "['california', 'new_york', 'oregon', 'tennessee', 'illinois']\n"
     ]
    }
   ],
   "source": [
    "state_list = []\n",
    "for i in crime_info.find():\n",
    "    state_list.append(i['state'])\n",
    "state_index=list(set(state_list))\n",
    "print(state_index)"
   ]
  },
  {
   "cell_type": "code",
   "execution_count": 17,
   "metadata": {},
   "outputs": [
    {
     "name": "stdout",
     "output_type": "stream",
     "text": [
      "[461, 348, 108, 248, 507]\n"
     ]
    }
   ],
   "source": [
    "count_time = []\n",
    "for index in state_index:\n",
    "    count_time.append(state_list.count(index))\n",
    "print(count_time)"
   ]
  },
  {
   "cell_type": "code",
   "execution_count": 18,
   "metadata": {
    "collapsed": true
   },
   "outputs": [],
   "source": [
    "# def dataFormatter_gen(types):\n",
    "#     for state, times in zip(state_index, count_time):\n",
    "#         data = {\n",
    "#             x=[state],\n",
    "#             y=[times],\n",
    "#             name='Others',\n",
    "#             line=dict(\n",
    "#             color=('rgb(22,20,24)'),\n",
    "#             width=4\n",
    "#             )\n",
    "#         }\n"
   ]
  },
  {
   "cell_type": "code",
   "execution_count": 32,
   "metadata": {},
   "outputs": [],
   "source": [
    "data = [go.Bar(\n",
    "            x=state_index,y=count_time,\n",
    "            marker=dict(\n",
    "                color='rgb(158,202,225)',\n",
    "                line=dict(\n",
    "                    color=['rgba(24,204,204,1)', 'rgba(222,45,38,0.8)',\n",
    "                           'rgba(100,104,204,1)', 'rgba(100,24,54,1)',\n",
    "                           'rgba(50,2,204,50)'],\n",
    "                    width=0.5),\n",
    "            ),\n",
    "            opacity=0.8\n",
    "        )]"
   ]
  },
  {
   "cell_type": "code",
   "execution_count": 33,
   "metadata": {},
   "outputs": [
    {
     "data": {
      "text/html": [
       "<iframe id=\"igraph\" scrolling=\"no\" style=\"border:none;\" seamless=\"seamless\" src=\"https://plot.ly/~zzhang115/24.embed\" height=\"525px\" width=\"100%\"></iframe>"
      ],
      "text/plain": [
       "<plotly.tools.PlotlyDisplay object>"
      ]
     },
     "execution_count": 33,
     "metadata": {},
     "output_type": "execute_result"
    }
   ],
   "source": [
    "layout = go.Layout(\n",
    "    annotations=[\n",
    "        dict(x=xi,y=yi,\n",
    "             text=str(yi),\n",
    "             xanchor='center',\n",
    "             yanchor='bottom',\n",
    "             showarrow=False,\n",
    "        ) for xi, yi in zip(state_index, count_time)]\n",
    ")\n",
    "\n",
    "fig = go.Figure(data=data, layout=layout)\n",
    "py.iplot(fig)"
   ]
  },
  {
   "cell_type": "code",
   "execution_count": null,
   "metadata": {
    "collapsed": true
   },
   "outputs": [],
   "source": []
  }
 ],
 "metadata": {
  "kernelspec": {
   "display_name": "Python 3",
   "language": "python",
   "name": "python3"
  },
  "language_info": {
   "codemirror_mode": {
    "name": "ipython",
    "version": 3
   },
   "file_extension": ".py",
   "mimetype": "text/x-python",
   "name": "python",
   "nbconvert_exporter": "python",
   "pygments_lexer": "ipython3",
   "version": "3.5.2"
  }
 },
 "nbformat": 4,
 "nbformat_minor": 2
}
